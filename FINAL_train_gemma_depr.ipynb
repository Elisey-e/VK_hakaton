{
 "cells": [
  {
   "cell_type": "markdown",
   "metadata": {
    "_cell_guid": "b1076dfc-b9ad-4769-8c92-a6c4dae69d19",
    "_uuid": "8f2839f25d086af736a60e9eeb907d3b93b6e0e5"
   },
   "source": [
    "# Libraries"
   ]
  },
  {
   "cell_type": "code",
   "execution_count": 1,
   "metadata": {
    "execution": {
     "iopub.execute_input": "2024-07-31T19:19:36.421057Z",
     "iopub.status.busy": "2024-07-31T19:19:36.420121Z",
     "iopub.status.idle": "2024-07-31T19:20:22.145747Z",
     "shell.execute_reply": "2024-07-31T19:20:22.144324Z",
     "shell.execute_reply.started": "2024-07-31T19:19:36.421009Z"
    }
   },
   "outputs": [],
   "source": [
    "# %pip install -U transformers\n",
    "# %pip install -U datasets\n",
    "# %pip install -U accelerate\n",
    "# %pip install -U peft\n",
    "# %pip install -U trl\n",
    "# %pip install -U bitsandbytes"
   ]
  },
  {
   "cell_type": "code",
   "execution_count": 2,
   "metadata": {
    "execution": {
     "iopub.execute_input": "2024-07-31T19:20:22.148355Z",
     "iopub.status.busy": "2024-07-31T19:20:22.148024Z",
     "iopub.status.idle": "2024-07-31T19:20:44.164336Z",
     "shell.execute_reply": "2024-07-31T19:20:44.163538Z",
     "shell.execute_reply.started": "2024-07-31T19:20:22.148324Z"
    }
   },
   "outputs": [
    {
     "name": "stderr",
     "output_type": "stream",
     "text": [
      "C:\\Users\\USER_ELISEY\\AppData\\Roaming\\Python\\Python311\\site-packages\\tqdm\\auto.py:21: TqdmWarning: IProgress not found. Please update jupyter and ipywidgets. See https://ipywidgets.readthedocs.io/en/stable/user_install.html\n",
      "  from .autonotebook import tqdm as notebook_tqdm\n"
     ]
    }
   ],
   "source": [
    "import os, torch, wandb\n",
    "\n",
    "from transformers import (\n",
    "    AutoModelForCausalLM,\n",
    "    AutoTokenizer,\n",
    "    BitsAndBytesConfig,\n",
    "    HfArgumentParser,\n",
    "    TrainingArguments,\n",
    "    pipeline,\n",
    "    logging,\n",
    ")\n",
    "from peft import (\n",
    "    LoraConfig,\n",
    "    PeftModel,\n",
    "    prepare_model_for_kbit_training,\n",
    "    get_peft_model,\n",
    ")\n",
    "\n",
    "from datasets import load_dataset, concatenate_datasets\n",
    "from trl import SFTTrainer, setup_chat_format\n",
    "from dataclasses import dataclass"
   ]
  },
  {
   "cell_type": "markdown",
   "metadata": {},
   "source": [
    "## Setup Huggingface 🤗 & Wandb"
   ]
  },
  {
   "cell_type": "code",
   "execution_count": 5,
   "metadata": {
    "execution": {
     "iopub.execute_input": "2024-07-31T19:20:46.969022Z",
     "iopub.status.busy": "2024-07-31T19:20:46.967876Z",
     "iopub.status.idle": "2024-07-31T19:20:46.974308Z",
     "shell.execute_reply": "2024-07-31T19:20:46.973252Z",
     "shell.execute_reply.started": "2024-07-31T19:20:46.968992Z"
    }
   },
   "outputs": [],
   "source": [
    "@dataclass\n",
    "class Config:\n",
    "#     model_name = \"meta-llama/Meta-Llama-3.1-8B-Instruct\"\n",
    "#     model_name = \"AnatoliiPotapov/T-lite-instruct-0.1\"\n",
    "    model_name = \"notused\"\n",
    "    dataset_name = \"notused\"\n",
    "    new_model = \"russia_chad\"\n",
    "    torch_dtype = torch.float16\n",
    "    attn_implementation = \"eager\"\n",
    "cfg = Config()"
   ]
  },
  {
   "cell_type": "markdown",
   "metadata": {},
   "source": [
    "# Loading model and tokenizer"
   ]
  },
  {
   "cell_type": "code",
   "execution_count": 6,
   "metadata": {
    "execution": {
     "iopub.execute_input": "2024-07-31T19:20:46.975766Z",
     "iopub.status.busy": "2024-07-31T19:20:46.975431Z",
     "iopub.status.idle": "2024-07-31T19:23:16.014332Z",
     "shell.execute_reply": "2024-07-31T19:23:16.013378Z",
     "shell.execute_reply.started": "2024-07-31T19:20:46.975741Z"
    }
   },
   "outputs": [
    {
     "name": "stderr",
     "output_type": "stream",
     "text": [
      "Loading checkpoint shards: 100%|██████████| 4/4 [00:08<00:00,  2.03s/it]\n"
     ]
    }
   ],
   "source": [
    "# QLoRA config\n",
    "bnb_config = BitsAndBytesConfig(\n",
    "    load_in_4bit=True,\n",
    "    bnb_4bit_quant_type=\"nf4\",\n",
    "    bnb_4bit_compute_dtype=cfg.torch_dtype,\n",
    "    bnb_4bit_use_double_quant=True,\n",
    ")\n",
    "\n",
    "# Load model\n",
    "model = AutoModelForCausalLM.from_pretrained(\n",
    "    \"C:\\\\Users\\\\USER_ELISEY\\\\gemma\",\n",
    "    quantization_config=bnb_config,\n",
    "    device_map=\"auto\",\n",
    "    attn_implementation=cfg.attn_implementation\n",
    ")"
   ]
  },
  {
   "cell_type": "code",
   "execution_count": 7,
   "metadata": {
    "execution": {
     "iopub.execute_input": "2024-07-31T19:23:16.015907Z",
     "iopub.status.busy": "2024-07-31T19:23:16.015614Z",
     "iopub.status.idle": "2024-07-31T19:23:18.405382Z",
     "shell.execute_reply": "2024-07-31T19:23:18.404549Z",
     "shell.execute_reply.started": "2024-07-31T19:23:16.015883Z"
    }
   },
   "outputs": [
    {
     "name": "stdout",
     "output_type": "stream",
     "text": [
      "256000\n"
     ]
    }
   ],
   "source": [
    "# Load tokenizer\n",
    "tokenizer = AutoTokenizer.from_pretrained(\"C:\\\\Users\\\\USER_ELISEY\\\\gemma\")\n",
    "tokenizer.padding_side = 'right'\n",
    "tokenizer.padding_token = '<|pad|>'\n",
    "print(len(tokenizer))"
   ]
  },
  {
   "cell_type": "code",
   "execution_count": null,
   "metadata": {},
   "outputs": [],
   "source": []
  },
  {
   "cell_type": "markdown",
   "metadata": {},
   "source": [
    "## LoRA adapter"
   ]
  },
  {
   "cell_type": "code",
   "execution_count": 8,
   "metadata": {
    "execution": {
     "iopub.execute_input": "2024-07-31T19:23:18.406871Z",
     "iopub.status.busy": "2024-07-31T19:23:18.406587Z",
     "iopub.status.idle": "2024-07-31T19:23:19.566904Z",
     "shell.execute_reply": "2024-07-31T19:23:19.565881Z",
     "shell.execute_reply.started": "2024-07-31T19:23:18.406847Z"
    }
   },
   "outputs": [],
   "source": [
    "# LoRA config\n",
    "peft_config = LoraConfig(\n",
    "    r=16,\n",
    "    lora_alpha=32,\n",
    "    lora_dropout=0.05,\n",
    "    bias=\"none\",\n",
    "    task_type=\"CAUSAL_LM\",\n",
    "    target_modules=['up_proj', 'down_proj', 'gate_proj', 'k_proj', 'q_proj', 'v_proj', 'o_proj']\n",
    ")\n",
    "model = get_peft_model(model, peft_config)"
   ]
  },
  {
   "cell_type": "markdown",
   "metadata": {},
   "source": [
    "# Data"
   ]
  },
  {
   "cell_type": "markdown",
   "metadata": {},
   "source": [
    "## Load"
   ]
  },
  {
   "cell_type": "code",
   "execution_count": 9,
   "metadata": {
    "execution": {
     "iopub.execute_input": "2024-07-31T19:23:19.568419Z",
     "iopub.status.busy": "2024-07-31T19:23:19.568121Z",
     "iopub.status.idle": "2024-07-31T19:23:24.466352Z",
     "shell.execute_reply": "2024-07-31T19:23:24.465507Z",
     "shell.execute_reply.started": "2024-07-31T19:23:19.568394Z"
    }
   },
   "outputs": [],
   "source": [
    "dataset = load_dataset('miracl/miracl', 'ru', trust_remote_code=True)\n",
    "# data_eval[\"dev\"]['negative_passages']"
   ]
  },
  {
   "cell_type": "code",
   "execution_count": 10,
   "metadata": {},
   "outputs": [
    {
     "data": {
      "text/plain": [
       "DatasetDict({\n",
       "    dev: Dataset({\n",
       "        features: ['query_id', 'query', 'positive_passages', 'negative_passages'],\n",
       "        num_rows: 1252\n",
       "    })\n",
       "    testB: Dataset({\n",
       "        features: ['query_id', 'query', 'positive_passages', 'negative_passages'],\n",
       "        num_rows: 718\n",
       "    })\n",
       "    train: Dataset({\n",
       "        features: ['query_id', 'query', 'positive_passages', 'negative_passages'],\n",
       "        num_rows: 4683\n",
       "    })\n",
       "    testA: Dataset({\n",
       "        features: ['query_id', 'query', 'positive_passages', 'negative_passages'],\n",
       "        num_rows: 911\n",
       "    })\n",
       "})"
      ]
     },
     "execution_count": 10,
     "metadata": {},
     "output_type": "execute_result"
    }
   ],
   "source": [
    "dataset"
   ]
  },
  {
   "cell_type": "markdown",
   "metadata": {},
   "source": [
    "## Format to chat "
   ]
  },
  {
   "cell_type": "code",
   "execution_count": 11,
   "metadata": {
    "execution": {
     "iopub.execute_input": "2024-07-31T19:23:24.467754Z",
     "iopub.status.busy": "2024-07-31T19:23:24.467426Z",
     "iopub.status.idle": "2024-07-31T19:23:24.473839Z",
     "shell.execute_reply": "2024-07-31T19:23:24.472918Z",
     "shell.execute_reply.started": "2024-07-31T19:23:24.467728Z"
    }
   },
   "outputs": [],
   "source": [
    "def format_chat_template(row):\n",
    "    row_json = [{\"role\": \"user\", \"content\": row[\"query\"]},\n",
    "               {\"role\": \"assistant\", \"content\": row[\"positive_passages\"][0][\"text\"]}]\n",
    "    row[\"text\"] = tokenizer.apply_chat_template(row_json, tokenize=False)\n",
    "    return row"
   ]
  },
  {
   "cell_type": "code",
   "execution_count": 12,
   "metadata": {},
   "outputs": [],
   "source": [
    "dataset = concatenate_datasets([\n",
    "    dataset['dev'],\n",
    "    dataset['train']\n",
    "])\n",
    "\n",
    "dataset = dataset.remove_columns('negative_passages')"
   ]
  },
  {
   "cell_type": "code",
   "execution_count": 13,
   "metadata": {},
   "outputs": [
    {
     "data": {
      "text/plain": [
       "'Кари́бский кризис\\xa0— исторический термин, определяющий чрезвычайно напряжённое политическое, дипломатическое и военное противостояние между Советским Союзом и Соединёнными Штатами в октябре 1962 года, которое было вызвано размещением США ядерного оружия в Турции в 1961 году и впоследствии тайной переброской и размещением на Кубе военных частей и подразделений Вооружённых Сил СССР, техники и вооружения, включая ядерное оружие. Кризис мог привести к глобальной ядерной войне. Кубинцы называют его «Октябрьским кризисом» (), в США распространено название «Кубинский ракетный кризис» ().'"
      ]
     },
     "execution_count": 13,
     "metadata": {},
     "output_type": "execute_result"
    }
   ],
   "source": [
    "dataset['positive_passages'][0][0][\"text\"]"
   ]
  },
  {
   "cell_type": "code",
   "execution_count": 14,
   "metadata": {
    "execution": {
     "iopub.execute_input": "2024-07-31T19:23:24.478016Z",
     "iopub.status.busy": "2024-07-31T19:23:24.477695Z",
     "iopub.status.idle": "2024-07-31T19:23:39.357867Z",
     "shell.execute_reply": "2024-07-31T19:23:39.356931Z",
     "shell.execute_reply.started": "2024-07-31T19:23:24.477991Z"
    }
   },
   "outputs": [],
   "source": [
    "dataset = dataset.map(\n",
    "    format_chat_template,\n",
    "    num_proc=1,\n",
    ")"
   ]
  },
  {
   "cell_type": "markdown",
   "metadata": {},
   "source": [
    "## Select only part"
   ]
  },
  {
   "cell_type": "code",
   "execution_count": 15,
   "metadata": {
    "execution": {
     "iopub.execute_input": "2024-07-31T19:23:39.359682Z",
     "iopub.status.busy": "2024-07-31T19:23:39.359332Z",
     "iopub.status.idle": "2024-07-31T19:23:41.449434Z",
     "shell.execute_reply": "2024-07-31T19:23:41.448661Z",
     "shell.execute_reply.started": "2024-07-31T19:23:39.35965Z"
    }
   },
   "outputs": [
    {
     "data": {
      "text/plain": [
       "Dataset({\n",
       "    features: ['query_id', 'query', 'positive_passages', 'text'],\n",
       "    num_rows: 5935\n",
       "})"
      ]
     },
     "execution_count": 15,
     "metadata": {},
     "output_type": "execute_result"
    }
   ],
   "source": [
    "dataset_sh = dataset.shuffle(seed=2024)#.select(range(10_000))\n",
    "dataset_sh"
   ]
  },
  {
   "cell_type": "code",
   "execution_count": 16,
   "metadata": {
    "execution": {
     "iopub.execute_input": "2024-07-31T19:23:41.451005Z",
     "iopub.status.busy": "2024-07-31T19:23:41.450648Z",
     "iopub.status.idle": "2024-07-31T19:23:41.484003Z",
     "shell.execute_reply": "2024-07-31T19:23:41.482915Z",
     "shell.execute_reply.started": "2024-07-31T19:23:41.450974Z"
    }
   },
   "outputs": [],
   "source": [
    "dataset_sh = dataset_sh.train_test_split(0.1)"
   ]
  },
  {
   "cell_type": "code",
   "execution_count": 17,
   "metadata": {},
   "outputs": [
    {
     "data": {
      "text/plain": [
       "DatasetDict({\n",
       "    train: Dataset({\n",
       "        features: ['query_id', 'query', 'positive_passages', 'text'],\n",
       "        num_rows: 5341\n",
       "    })\n",
       "    test: Dataset({\n",
       "        features: ['query_id', 'query', 'positive_passages', 'text'],\n",
       "        num_rows: 594\n",
       "    })\n",
       "})"
      ]
     },
     "execution_count": 17,
     "metadata": {},
     "output_type": "execute_result"
    }
   ],
   "source": [
    "dataset_sh"
   ]
  },
  {
   "cell_type": "markdown",
   "metadata": {},
   "source": [
    "# Train model"
   ]
  },
  {
   "cell_type": "markdown",
   "metadata": {},
   "source": [
    "## Training arguments"
   ]
  },
  {
   "cell_type": "code",
   "execution_count": 18,
   "metadata": {
    "execution": {
     "iopub.execute_input": "2024-07-31T19:40:20.141299Z",
     "iopub.status.busy": "2024-07-31T19:40:20.1409Z",
     "iopub.status.idle": "2024-07-31T19:40:20.182873Z",
     "shell.execute_reply": "2024-07-31T19:40:20.182009Z",
     "shell.execute_reply.started": "2024-07-31T19:40:20.141268Z"
    }
   },
   "outputs": [],
   "source": [
    "training_arguments = TrainingArguments(\n",
    "    output_dir=cfg.new_model,\n",
    "    per_device_train_batch_size=1,\n",
    "    per_device_eval_batch_size=1,\n",
    "    gradient_accumulation_steps=2,\n",
    "    optim=\"paged_adamw_32bit\",\n",
    "#     num_train_epochs=1,\n",
    "    max_steps=500,\n",
    "    eval_strategy=\"steps\",\n",
    "    eval_steps=100,\n",
    "    logging_steps=10,\n",
    "    warmup_steps=10,\n",
    "    logging_strategy=\"steps\",\n",
    "    learning_rate=2e-4,\n",
    "    fp16=True,\n",
    "    bf16=False,\n",
    "    group_by_length=True,\n",
    "    report_to=\"wandb\",\n",
    "    run_name=\"Llama-3.1-medicine\",\n",
    ")"
   ]
  },
  {
   "cell_type": "code",
   "execution_count": 19,
   "metadata": {},
   "outputs": [],
   "source": [
    "# print(len(tokenizer))"
   ]
  },
  {
   "cell_type": "code",
   "execution_count": 20,
   "metadata": {},
   "outputs": [],
   "source": [
    "# model.resize_token_embeddings(256000)"
   ]
  },
  {
   "cell_type": "markdown",
   "metadata": {},
   "source": [
    "## Train model"
   ]
  },
  {
   "cell_type": "code",
   "execution_count": 21,
   "metadata": {
    "execution": {
     "iopub.execute_input": "2024-07-31T19:40:21.439957Z",
     "iopub.status.busy": "2024-07-31T19:40:21.439288Z",
     "iopub.status.idle": "2024-07-31T19:40:27.98408Z",
     "shell.execute_reply": "2024-07-31T19:40:27.983305Z",
     "shell.execute_reply.started": "2024-07-31T19:40:21.439924Z"
    }
   },
   "outputs": [
    {
     "name": "stderr",
     "output_type": "stream",
     "text": [
      "C:\\Users\\USER_ELISEY\\AppData\\Roaming\\Python\\Python311\\site-packages\\huggingface_hub\\utils\\_deprecation.py:100: FutureWarning: Deprecated argument(s) used in '__init__': max_seq_length, dataset_text_field. Will not be supported from version '1.0.0'.\n",
      "\n",
      "Deprecated positional argument(s) used in SFTTrainer, please use the SFTConfig to set these arguments instead.\n",
      "  warnings.warn(message, FutureWarning)\n",
      "C:\\Users\\USER_ELISEY\\AppData\\Roaming\\Python\\Python311\\site-packages\\trl\\trainer\\sft_trainer.py:283: UserWarning: You passed a `max_seq_length` argument to the SFTTrainer, the value you passed will override the one in the `SFTConfig`.\n",
      "  warnings.warn(\n",
      "C:\\Users\\USER_ELISEY\\AppData\\Roaming\\Python\\Python311\\site-packages\\trl\\trainer\\sft_trainer.py:321: UserWarning: You passed a `dataset_text_field` argument to the SFTTrainer, the value you passed will override the one in the `SFTConfig`.\n",
      "  warnings.warn(\n",
      "Map: 100%|██████████| 5341/5341 [00:00<00:00, 7611.39 examples/s]\n",
      "Map: 100%|██████████| 594/594 [00:00<00:00, 6795.04 examples/s]\n",
      "max_steps is given, it will override any value given in num_train_epochs\n"
     ]
    }
   ],
   "source": [
    "trainer = SFTTrainer(\n",
    "    model=model,\n",
    "    train_dataset=dataset_sh[\"train\"],\n",
    "    eval_dataset=dataset_sh[\"test\"],\n",
    "    peft_config=peft_config,\n",
    "    max_seq_length=512,\n",
    "    dataset_text_field=\"text\",\n",
    "    tokenizer=tokenizer,\n",
    "    args=training_arguments,\n",
    "    packing= False,\n",
    ")"
   ]
  },
  {
   "cell_type": "code",
   "execution_count": null,
   "metadata": {
    "execution": {
     "iopub.execute_input": "2024-07-31T19:40:31.097638Z",
     "iopub.status.busy": "2024-07-31T19:40:31.097229Z",
     "iopub.status.idle": "2024-07-31T20:09:00.849422Z",
     "shell.execute_reply": "2024-07-31T20:09:00.847937Z",
     "shell.execute_reply.started": "2024-07-31T19:40:31.097607Z"
    }
   },
   "outputs": [
    {
     "name": "stderr",
     "output_type": "stream",
     "text": [
      "  2%|▏         | 10/500 [08:31<5:48:18, 42.65s/it]"
     ]
    },
    {
     "name": "stdout",
     "output_type": "stream",
     "text": [
      "{'loss': 2.3, 'grad_norm': 2.1840381622314453, 'learning_rate': 0.0002, 'epoch': 0.0}\n"
     ]
    },
    {
     "name": "stderr",
     "output_type": "stream",
     "text": [
      "  4%|▍         | 20/500 [13:25<3:47:05, 28.39s/it]"
     ]
    },
    {
     "name": "stdout",
     "output_type": "stream",
     "text": [
      "{'loss': 2.0288, 'grad_norm': 1.8392691612243652, 'learning_rate': 0.0001959183673469388, 'epoch': 0.01}\n"
     ]
    },
    {
     "name": "stderr",
     "output_type": "stream",
     "text": [
      "  6%|▌         | 30/500 [18:52<4:17:19, 32.85s/it]"
     ]
    },
    {
     "name": "stdout",
     "output_type": "stream",
     "text": [
      "{'loss': 1.968, 'grad_norm': 2.3942601680755615, 'learning_rate': 0.00019183673469387756, 'epoch': 0.01}\n"
     ]
    },
    {
     "name": "stderr",
     "output_type": "stream",
     "text": [
      "  8%|▊         | 40/500 [23:50<3:31:20, 27.57s/it]"
     ]
    },
    {
     "name": "stdout",
     "output_type": "stream",
     "text": [
      "{'loss': 1.7308, 'grad_norm': 2.6008598804473877, 'learning_rate': 0.00018775510204081634, 'epoch': 0.01}\n"
     ]
    },
    {
     "name": "stderr",
     "output_type": "stream",
     "text": [
      " 10%|█         | 50/500 [26:59<2:18:42, 18.49s/it]"
     ]
    },
    {
     "name": "stdout",
     "output_type": "stream",
     "text": [
      "{'loss': 1.6545, 'grad_norm': 4.566784858703613, 'learning_rate': 0.00018367346938775512, 'epoch': 0.02}\n"
     ]
    },
    {
     "name": "stderr",
     "output_type": "stream",
     "text": [
      " 12%|█▏        | 60/500 [36:40<5:36:39, 45.91s/it]"
     ]
    },
    {
     "name": "stdout",
     "output_type": "stream",
     "text": [
      "{'loss': 1.8122, 'grad_norm': 1.5805020332336426, 'learning_rate': 0.0001795918367346939, 'epoch': 0.02}\n"
     ]
    },
    {
     "name": "stderr",
     "output_type": "stream",
     "text": [
      " 14%|█▍        | 70/500 [42:37<3:56:23, 32.98s/it]"
     ]
    },
    {
     "name": "stdout",
     "output_type": "stream",
     "text": [
      "{'loss': 1.6243, 'grad_norm': 2.4196367263793945, 'learning_rate': 0.00017551020408163265, 'epoch': 0.03}\n"
     ]
    },
    {
     "name": "stderr",
     "output_type": "stream",
     "text": [
      " 16%|█▌        | 80/500 [47:39<3:45:45, 32.25s/it]"
     ]
    },
    {
     "name": "stdout",
     "output_type": "stream",
     "text": [
      "{'loss': 1.6776, 'grad_norm': 2.4707908630371094, 'learning_rate': 0.00017142857142857143, 'epoch': 0.03}\n"
     ]
    },
    {
     "name": "stderr",
     "output_type": "stream",
     "text": [
      " 18%|█▊        | 90/500 [52:18<2:41:45, 23.67s/it]"
     ]
    },
    {
     "name": "stdout",
     "output_type": "stream",
     "text": [
      "{'loss': 1.4889, 'grad_norm': 2.4366214275360107, 'learning_rate': 0.00016734693877551023, 'epoch': 0.03}\n"
     ]
    },
    {
     "name": "stderr",
     "output_type": "stream",
     "text": [
      " 20%|██        | 100/500 [55:06<1:47:43, 16.16s/it]"
     ]
    },
    {
     "name": "stdout",
     "output_type": "stream",
     "text": [
      "{'loss': 1.5494, 'grad_norm': 2.841456651687622, 'learning_rate': 0.00016326530612244898, 'epoch': 0.04}\n"
     ]
    },
    {
     "name": "stderr",
     "output_type": "stream",
     "text": [
      "                                                   \n",
      " 20%|██        | 100/500 [1:57:25<1:47:43, 16.16s/it]"
     ]
    },
    {
     "name": "stdout",
     "output_type": "stream",
     "text": [
      "{'eval_loss': 1.6582292318344116, 'eval_runtime': 3739.4813, 'eval_samples_per_second': 0.159, 'eval_steps_per_second': 0.159, 'epoch': 0.04}\n"
     ]
    },
    {
     "name": "stderr",
     "output_type": "stream",
     "text": [
      " 22%|██▏       | 110/500 [2:06:19<10:03:33, 92.86s/it]   "
     ]
    },
    {
     "name": "stdout",
     "output_type": "stream",
     "text": [
      "{'loss': 1.7072, 'grad_norm': 1.3870774507522583, 'learning_rate': 0.00015918367346938776, 'epoch': 0.04}\n"
     ]
    },
    {
     "name": "stderr",
     "output_type": "stream",
     "text": [
      " 24%|██▍       | 120/500 [2:12:43<3:53:04, 36.80s/it] "
     ]
    },
    {
     "name": "stdout",
     "output_type": "stream",
     "text": [
      "{'loss': 1.6798, 'grad_norm': 1.8217418193817139, 'learning_rate': 0.00015510204081632654, 'epoch': 0.04}\n"
     ]
    },
    {
     "name": "stderr",
     "output_type": "stream",
     "text": [
      " 26%|██▌       | 130/500 [2:18:51<4:00:28, 39.00s/it]"
     ]
    },
    {
     "name": "stdout",
     "output_type": "stream",
     "text": [
      "{'loss': 1.8031, 'grad_norm': 2.0685861110687256, 'learning_rate': 0.0001510204081632653, 'epoch': 0.05}\n"
     ]
    },
    {
     "name": "stderr",
     "output_type": "stream",
     "text": [
      " 28%|██▊       | 140/500 [2:25:00<3:25:59, 34.33s/it]"
     ]
    },
    {
     "name": "stdout",
     "output_type": "stream",
     "text": [
      "{'loss': 1.5728, 'grad_norm': 3.1982595920562744, 'learning_rate': 0.0001469387755102041, 'epoch': 0.05}\n"
     ]
    },
    {
     "name": "stderr",
     "output_type": "stream",
     "text": [
      " 30%|███       | 150/500 [2:28:46<2:00:25, 20.64s/it]"
     ]
    },
    {
     "name": "stdout",
     "output_type": "stream",
     "text": [
      "{'loss': 1.6333, 'grad_norm': nan, 'learning_rate': 0.00014326530612244898, 'epoch': 0.06}\n"
     ]
    },
    {
     "name": "stderr",
     "output_type": "stream",
     "text": [
      " 32%|███▏      | 160/500 [2:38:55<4:51:20, 51.41s/it]"
     ]
    },
    {
     "name": "stdout",
     "output_type": "stream",
     "text": [
      "{'loss': 1.8147, 'grad_norm': 1.7196639776229858, 'learning_rate': 0.00013918367346938776, 'epoch': 0.06}\n"
     ]
    },
    {
     "name": "stderr",
     "output_type": "stream",
     "text": [
      " 34%|███▍      | 170/500 [2:45:44<3:24:34, 37.20s/it]"
     ]
    },
    {
     "name": "stdout",
     "output_type": "stream",
     "text": [
      "{'loss': 1.8404, 'grad_norm': 2.099281072616577, 'learning_rate': 0.00013510204081632654, 'epoch': 0.06}\n"
     ]
    },
    {
     "name": "stderr",
     "output_type": "stream",
     "text": [
      " 36%|███▌      | 180/500 [2:51:54<3:24:31, 38.35s/it]"
     ]
    },
    {
     "name": "stdout",
     "output_type": "stream",
     "text": [
      "{'loss': 1.6406, 'grad_norm': 1.7859504222869873, 'learning_rate': 0.00013102040816326531, 'epoch': 0.07}\n"
     ]
    },
    {
     "name": "stderr",
     "output_type": "stream",
     "text": [
      " 38%|███▊      | 190/500 [2:57:52<2:47:27, 32.41s/it]"
     ]
    },
    {
     "name": "stdout",
     "output_type": "stream",
     "text": [
      "{'loss': 1.4023, 'grad_norm': 2.9348511695861816, 'learning_rate': 0.00012693877551020406, 'epoch': 0.07}\n"
     ]
    },
    {
     "name": "stderr",
     "output_type": "stream",
     "text": [
      " 40%|████      | 200/500 [3:01:31<1:43:49, 20.76s/it]"
     ]
    },
    {
     "name": "stdout",
     "output_type": "stream",
     "text": [
      "{'loss': 1.5202, 'grad_norm': 4.104401588439941, 'learning_rate': 0.00012285714285714287, 'epoch': 0.07}\n"
     ]
    },
    {
     "name": "stderr",
     "output_type": "stream",
     "text": [
      "                                                     \n",
      " 40%|████      | 200/500 [4:18:27<1:43:49, 20.76s/it]"
     ]
    },
    {
     "name": "stdout",
     "output_type": "stream",
     "text": [
      "{'eval_loss': 1.6190582513809204, 'eval_runtime': 4616.0114, 'eval_samples_per_second': 0.129, 'eval_steps_per_second': 0.129, 'epoch': 0.07}\n"
     ]
    },
    {
     "name": "stderr",
     "output_type": "stream",
     "text": [
      " 42%|████▏     | 210/500 [4:28:46<8:34:52, 106.53s/it]   "
     ]
    },
    {
     "name": "stdout",
     "output_type": "stream",
     "text": [
      "{'loss': 1.7892, 'grad_norm': 1.7662056684494019, 'learning_rate': 0.00011877551020408165, 'epoch': 0.08}\n"
     ]
    },
    {
     "name": "stderr",
     "output_type": "stream",
     "text": [
      " 44%|████▍     | 220/500 [4:35:58<3:20:44, 43.02s/it] "
     ]
    },
    {
     "name": "stdout",
     "output_type": "stream",
     "text": [
      "{'loss': 1.7324, 'grad_norm': 2.059535503387451, 'learning_rate': 0.00011469387755102041, 'epoch': 0.08}\n"
     ]
    },
    {
     "name": "stderr",
     "output_type": "stream",
     "text": [
      " 46%|████▌     | 230/500 [4:42:03<2:53:37, 38.58s/it]"
     ]
    },
    {
     "name": "stdout",
     "output_type": "stream",
     "text": [
      "{'loss': 1.7448, 'grad_norm': 2.26393461227417, 'learning_rate': 0.00011061224489795919, 'epoch': 0.09}\n"
     ]
    },
    {
     "name": "stderr",
     "output_type": "stream",
     "text": [
      " 48%|████▊     | 240/500 [4:47:41<2:07:04, 29.33s/it]"
     ]
    },
    {
     "name": "stdout",
     "output_type": "stream",
     "text": [
      "{'loss': 1.6726, 'grad_norm': 2.531026840209961, 'learning_rate': 0.00010653061224489795, 'epoch': 0.09}\n"
     ]
    },
    {
     "name": "stderr",
     "output_type": "stream",
     "text": [
      " 50%|█████     | 250/500 [4:51:18<1:21:05, 19.46s/it]"
     ]
    },
    {
     "name": "stdout",
     "output_type": "stream",
     "text": [
      "{'loss': 1.4, 'grad_norm': 4.796047687530518, 'learning_rate': 0.00010244897959183674, 'epoch': 0.09}\n"
     ]
    },
    {
     "name": "stderr",
     "output_type": "stream",
     "text": [
      " 52%|█████▏    | 260/500 [5:00:34<3:04:46, 46.19s/it]"
     ]
    },
    {
     "name": "stdout",
     "output_type": "stream",
     "text": [
      "{'loss': 1.8523, 'grad_norm': 1.7520687580108643, 'learning_rate': 9.836734693877552e-05, 'epoch': 0.1}\n"
     ]
    },
    {
     "name": "stderr",
     "output_type": "stream",
     "text": [
      " 54%|█████▍    | 270/500 [5:06:42<2:17:31, 35.88s/it]"
     ]
    },
    {
     "name": "stdout",
     "output_type": "stream",
     "text": [
      "{'loss': 1.6612, 'grad_norm': 1.7135014533996582, 'learning_rate': 9.428571428571429e-05, 'epoch': 0.1}\n"
     ]
    },
    {
     "name": "stderr",
     "output_type": "stream",
     "text": [
      " 56%|█████▌    | 280/500 [5:13:03<2:17:52, 37.60s/it]"
     ]
    },
    {
     "name": "stdout",
     "output_type": "stream",
     "text": [
      "{'loss': 1.4078, 'grad_norm': 2.065044641494751, 'learning_rate': 9.020408163265308e-05, 'epoch': 0.1}\n"
     ]
    },
    {
     "name": "stderr",
     "output_type": "stream",
     "text": [
      " 58%|█████▊    | 290/500 [5:18:42<1:49:47, 31.37s/it]"
     ]
    },
    {
     "name": "stdout",
     "output_type": "stream",
     "text": [
      "{'loss': 1.3318, 'grad_norm': 3.0822982788085938, 'learning_rate': 8.612244897959184e-05, 'epoch': 0.11}\n"
     ]
    },
    {
     "name": "stderr",
     "output_type": "stream",
     "text": [
      " 60%|██████    | 300/500 [5:22:10<1:02:32, 18.76s/it]"
     ]
    },
    {
     "name": "stdout",
     "output_type": "stream",
     "text": [
      "{'loss': 1.5945, 'grad_norm': 2.65639066696167, 'learning_rate': 8.204081632653062e-05, 'epoch': 0.11}\n"
     ]
    },
    {
     "name": "stderr",
     "output_type": "stream",
     "text": [
      "                                                     \n",
      " 60%|██████    | 300/500 [6:38:11<1:02:32, 18.76s/it]"
     ]
    },
    {
     "name": "stdout",
     "output_type": "stream",
     "text": [
      "{'eval_loss': 1.5992199182510376, 'eval_runtime': 4561.7417, 'eval_samples_per_second': 0.13, 'eval_steps_per_second': 0.13, 'epoch': 0.11}\n"
     ]
    },
    {
     "name": "stderr",
     "output_type": "stream",
     "text": [
      " 62%|██████▏   | 310/500 [6:48:45<5:42:46, 108.25s/it]  "
     ]
    },
    {
     "name": "stdout",
     "output_type": "stream",
     "text": [
      "{'loss': 1.791, 'grad_norm': 1.5422536134719849, 'learning_rate': 7.79591836734694e-05, 'epoch': 0.12}\n"
     ]
    },
    {
     "name": "stderr",
     "output_type": "stream",
     "text": [
      " 64%|██████▍   | 320/500 [6:55:14<1:52:04, 37.36s/it] "
     ]
    },
    {
     "name": "stdout",
     "output_type": "stream",
     "text": [
      "{'loss': 1.6219, 'grad_norm': 1.8921648263931274, 'learning_rate': 7.387755102040816e-05, 'epoch': 0.12}\n"
     ]
    },
    {
     "name": "stderr",
     "output_type": "stream",
     "text": [
      " 66%|██████▌   | 330/500 [7:01:39<1:50:11, 38.89s/it]"
     ]
    },
    {
     "name": "stdout",
     "output_type": "stream",
     "text": [
      "{'loss': 1.591, 'grad_norm': 2.324852705001831, 'learning_rate': 6.979591836734695e-05, 'epoch': 0.12}\n"
     ]
    },
    {
     "name": "stderr",
     "output_type": "stream",
     "text": [
      " 68%|██████▊   | 340/500 [7:07:37<1:29:15, 33.47s/it]"
     ]
    },
    {
     "name": "stdout",
     "output_type": "stream",
     "text": [
      "{'loss': 1.4953, 'grad_norm': 2.306370496749878, 'learning_rate': 6.571428571428571e-05, 'epoch': 0.13}\n"
     ]
    },
    {
     "name": "stderr",
     "output_type": "stream",
     "text": [
      " 70%|███████   | 350/500 [7:11:32<52:43, 21.09s/it]  "
     ]
    },
    {
     "name": "stdout",
     "output_type": "stream",
     "text": [
      "{'loss': 1.4416, 'grad_norm': 2.694382905960083, 'learning_rate': 6.163265306122449e-05, 'epoch': 0.13}\n"
     ]
    },
    {
     "name": "stderr",
     "output_type": "stream",
     "text": [
      " 72%|███████▏  | 360/500 [7:20:59<1:53:06, 48.47s/it]"
     ]
    },
    {
     "name": "stdout",
     "output_type": "stream",
     "text": [
      "{'loss': 1.6559, 'grad_norm': 1.485676884651184, 'learning_rate': 5.755102040816327e-05, 'epoch': 0.13}\n"
     ]
    },
    {
     "name": "stderr",
     "output_type": "stream",
     "text": [
      " 74%|███████▍  | 370/500 [7:27:20<1:17:02, 35.56s/it]"
     ]
    },
    {
     "name": "stdout",
     "output_type": "stream",
     "text": [
      "{'loss': 1.509, 'grad_norm': 2.0512969493865967, 'learning_rate': 5.346938775510204e-05, 'epoch': 0.14}\n"
     ]
    },
    {
     "name": "stderr",
     "output_type": "stream",
     "text": [
      " 76%|███████▌  | 380/500 [7:33:40<1:16:09, 38.08s/it]"
     ]
    },
    {
     "name": "stdout",
     "output_type": "stream",
     "text": [
      "{'loss': 1.6028, 'grad_norm': 2.4973597526550293, 'learning_rate': 4.938775510204082e-05, 'epoch': 0.14}\n"
     ]
    },
    {
     "name": "stderr",
     "output_type": "stream",
     "text": [
      " 78%|███████▊  | 390/500 [7:39:18<54:28, 29.71s/it]  "
     ]
    },
    {
     "name": "stdout",
     "output_type": "stream",
     "text": [
      "{'loss': 1.4453, 'grad_norm': 2.477543830871582, 'learning_rate': 4.5306122448979595e-05, 'epoch': 0.15}\n"
     ]
    },
    {
     "name": "stderr",
     "output_type": "stream",
     "text": [
      " 80%|████████  | 400/500 [7:42:35<29:47, 17.88s/it]"
     ]
    },
    {
     "name": "stdout",
     "output_type": "stream",
     "text": [
      "{'loss': 1.4901, 'grad_norm': 4.916280269622803, 'learning_rate': 4.122448979591837e-05, 'epoch': 0.15}\n"
     ]
    },
    {
     "name": "stderr",
     "output_type": "stream",
     "text": [
      "                                                   \n",
      " 80%|████████  | 400/500 [8:59:21<29:47, 17.88s/it]"
     ]
    },
    {
     "name": "stdout",
     "output_type": "stream",
     "text": [
      "{'eval_loss': 1.5806922912597656, 'eval_runtime': 4606.0529, 'eval_samples_per_second': 0.129, 'eval_steps_per_second': 0.129, 'epoch': 0.15}\n"
     ]
    },
    {
     "name": "stderr",
     "output_type": "stream",
     "text": [
      " 82%|████████▏ | 410/500 [9:07:26<2:25:25, 96.95s/it]   "
     ]
    },
    {
     "name": "stdout",
     "output_type": "stream",
     "text": [
      "{'loss': 1.8179, 'grad_norm': 1.8731502294540405, 'learning_rate': 3.7142857142857143e-05, 'epoch': 0.15}\n"
     ]
    },
    {
     "name": "stderr",
     "output_type": "stream",
     "text": [
      " 84%|████████▍ | 420/500 [9:12:38<41:37, 31.22s/it]  "
     ]
    },
    {
     "name": "stdout",
     "output_type": "stream",
     "text": [
      "{'loss': 1.6391, 'grad_norm': 1.7788532972335815, 'learning_rate': 3.306122448979592e-05, 'epoch': 0.16}\n"
     ]
    },
    {
     "name": "stderr",
     "output_type": "stream",
     "text": [
      " 86%|████████▌ | 430/500 [9:18:11<38:33, 33.04s/it]"
     ]
    },
    {
     "name": "stdout",
     "output_type": "stream",
     "text": [
      "{'loss': 1.7178, 'grad_norm': 2.2750277519226074, 'learning_rate': 2.8979591836734692e-05, 'epoch': 0.16}\n"
     ]
    },
    {
     "name": "stderr",
     "output_type": "stream",
     "text": [
      " 88%|████████▊ | 440/500 [9:23:33<31:22, 31.37s/it]"
     ]
    },
    {
     "name": "stdout",
     "output_type": "stream",
     "text": [
      "{'loss': 1.311, 'grad_norm': 2.0465900897979736, 'learning_rate': 2.489795918367347e-05, 'epoch': 0.16}\n"
     ]
    },
    {
     "name": "stderr",
     "output_type": "stream",
     "text": [
      " 90%|█████████ | 450/500 [9:26:51<14:13, 17.07s/it]"
     ]
    },
    {
     "name": "stdout",
     "output_type": "stream",
     "text": [
      "{'loss': 1.4539, 'grad_norm': 3.6052777767181396, 'learning_rate': 2.0816326530612247e-05, 'epoch': 0.17}\n"
     ]
    },
    {
     "name": "stderr",
     "output_type": "stream",
     "text": [
      " 92%|█████████▏| 460/500 [9:35:39<29:35, 44.38s/it]"
     ]
    },
    {
     "name": "stdout",
     "output_type": "stream",
     "text": [
      "{'loss': 1.7986, 'grad_norm': 1.5277632474899292, 'learning_rate': 1.673469387755102e-05, 'epoch': 0.17}\n"
     ]
    },
    {
     "name": "stderr",
     "output_type": "stream",
     "text": [
      " 94%|█████████▍| 470/500 [9:41:13<15:16, 30.55s/it]"
     ]
    },
    {
     "name": "stdout",
     "output_type": "stream",
     "text": [
      "{'loss': 1.6121, 'grad_norm': 2.007514238357544, 'learning_rate': 1.2653061224489795e-05, 'epoch': 0.18}\n"
     ]
    },
    {
     "name": "stderr",
     "output_type": "stream",
     "text": [
      " 96%|█████████▌| 480/500 [9:46:41<10:49, 32.49s/it]"
     ]
    },
    {
     "name": "stdout",
     "output_type": "stream",
     "text": [
      "{'loss': 1.6892, 'grad_norm': 2.6101012229919434, 'learning_rate': 8.571428571428573e-06, 'epoch': 0.18}\n"
     ]
    },
    {
     "name": "stderr",
     "output_type": "stream",
     "text": [
      " 98%|█████████▊| 490/500 [9:50:31<03:22, 20.30s/it]"
     ]
    },
    {
     "name": "stdout",
     "output_type": "stream",
     "text": [
      "{'loss': 1.4698, 'grad_norm': 2.0734493732452393, 'learning_rate': 4.489795918367347e-06, 'epoch': 0.18}\n"
     ]
    },
    {
     "name": "stderr",
     "output_type": "stream",
     "text": [
      "100%|██████████| 500/500 [9:53:19<00:00, 15.90s/it]"
     ]
    },
    {
     "name": "stdout",
     "output_type": "stream",
     "text": [
      "{'loss': 1.4128, 'grad_norm': 2.824575901031494, 'learning_rate': 4.081632653061225e-07, 'epoch': 0.19}\n"
     ]
    },
    {
     "name": "stderr",
     "output_type": "stream",
     "text": [
      "                                                   \n",
      "100%|██████████| 500/500 [10:55:23<00:00, 15.90s/it]"
     ]
    },
    {
     "name": "stdout",
     "output_type": "stream",
     "text": [
      "{'eval_loss': 1.570472002029419, 'eval_runtime': 3723.8734, 'eval_samples_per_second': 0.16, 'eval_steps_per_second': 0.16, 'epoch': 0.19}\n"
     ]
    }
   ],
   "source": [
    "trainer.train()"
   ]
  },
  {
   "cell_type": "code",
   "execution_count": null,
   "metadata": {
    "execution": {
     "iopub.execute_input": "2024-07-31T20:09:40.932639Z",
     "iopub.status.busy": "2024-07-31T20:09:40.931936Z",
     "iopub.status.idle": "2024-07-31T20:10:11.058559Z",
     "shell.execute_reply": "2024-07-31T20:10:11.057552Z",
     "shell.execute_reply.started": "2024-07-31T20:09:40.932606Z"
    }
   },
   "outputs": [],
   "source": [
    "path_to_save = \"Llama-finetuned\"\n",
    "trainer.save_model(path_to_save)\n",
    "model.save_pretrained(path_to_save)\n",
    "tokenizer.save_pretrained(path_to_save)"
   ]
  },
  {
   "cell_type": "code",
   "execution_count": null,
   "metadata": {
    "execution": {
     "iopub.execute_input": "2024-07-31T20:25:47.955124Z",
     "iopub.status.busy": "2024-07-31T20:25:47.954733Z",
     "iopub.status.idle": "2024-07-31T20:25:47.964991Z",
     "shell.execute_reply": "2024-07-31T20:25:47.963846Z",
     "shell.execute_reply.started": "2024-07-31T20:25:47.955095Z"
    }
   },
   "outputs": [],
   "source": [
    "del model, tokenizer, trainer"
   ]
  },
  {
   "cell_type": "markdown",
   "metadata": {},
   "source": [
    "# Compare models"
   ]
  },
  {
   "cell_type": "markdown",
   "metadata": {},
   "source": [
    "## Init casual LLM"
   ]
  },
  {
   "cell_type": "code",
   "execution_count": null,
   "metadata": {
    "execution": {
     "iopub.execute_input": "2024-07-31T20:28:13.860754Z",
     "iopub.status.busy": "2024-07-31T20:28:13.859897Z",
     "iopub.status.idle": "2024-07-31T20:29:29.136779Z",
     "shell.execute_reply": "2024-07-31T20:29:29.135671Z",
     "shell.execute_reply.started": "2024-07-31T20:28:13.86072Z"
    }
   },
   "outputs": [],
   "source": [
    "# QLoRA config\n",
    "bnb_config = BitsAndBytesConfig(\n",
    "    load_in_4bit=True,\n",
    "    bnb_4bit_quant_type=\"nf4\",\n",
    "    bnb_4bit_compute_dtype=cfg.torch_dtype,\n",
    "    bnb_4bit_use_double_quant=True,\n",
    ")\n",
    "\n",
    "# Load model\n",
    "casual_model = AutoModelForCausalLM.from_pretrained(\n",
    "    cfg.model_name,\n",
    "    quantization_config=bnb_config,\n",
    "#     device_map=\"auto\",\n",
    "    attn_implementation=cfg.attn_implementation\n",
    ")\n",
    "\n",
    "tokenizer = tokenizer = AutoTokenizer.from_pretrained(cfg.model_name)\n",
    "tokenizer.padding_side = 'right'\n",
    "tokenizer.padding_token = '<|pad_token|>'"
   ]
  },
  {
   "cell_type": "code",
   "execution_count": null,
   "metadata": {
    "execution": {
     "iopub.execute_input": "2024-07-31T20:29:29.13895Z",
     "iopub.status.busy": "2024-07-31T20:29:29.138645Z",
     "iopub.status.idle": "2024-07-31T20:29:29.198595Z",
     "shell.execute_reply": "2024-07-31T20:29:29.197438Z",
     "shell.execute_reply.started": "2024-07-31T20:29:29.138923Z"
    }
   },
   "outputs": [],
   "source": [
    "casual_model, tokenizer = setup_chat_format(casual_model, tokenizer)"
   ]
  },
  {
   "cell_type": "markdown",
   "metadata": {},
   "source": [
    "## Get answers"
   ]
  },
  {
   "cell_type": "code",
   "execution_count": null,
   "metadata": {
    "execution": {
     "iopub.execute_input": "2024-07-31T20:29:29.200105Z",
     "iopub.status.busy": "2024-07-31T20:29:29.19983Z",
     "iopub.status.idle": "2024-07-31T20:29:29.207428Z",
     "shell.execute_reply": "2024-07-31T20:29:29.206299Z",
     "shell.execute_reply.started": "2024-07-31T20:29:29.20008Z"
    }
   },
   "outputs": [],
   "source": [
    "def generate_answer(model, prompt):\n",
    "    chat = [\n",
    "        { \"role\": \"user\", \"content\": prompt },\n",
    "    ]\n",
    "    prompt = tokenizer.apply_chat_template(chat, tokenize=False, add_generation_prompt=True)\n",
    "    inputs = tokenizer.encode(prompt, add_special_tokens=False, return_tensors=\"pt\")\n",
    "    outputs = model.generate(input_ids=inputs.to(model.device), max_new_tokens=150)\n",
    "\n",
    "    return(tokenizer.decode(outputs[0]))"
   ]
  },
  {
   "cell_type": "markdown",
   "metadata": {},
   "source": [
    "# Comprasion"
   ]
  },
  {
   "cell_type": "code",
   "execution_count": null,
   "metadata": {
    "execution": {
     "iopub.execute_input": "2024-07-31T20:29:36.89578Z",
     "iopub.status.busy": "2024-07-31T20:29:36.894921Z",
     "iopub.status.idle": "2024-07-31T20:29:36.901397Z",
     "shell.execute_reply": "2024-07-31T20:29:36.900326Z",
     "shell.execute_reply.started": "2024-07-31T20:29:36.895742Z"
    }
   },
   "outputs": [],
   "source": [
    "q1 = \"I have severe headaches help me please\"\n",
    "q2 = \"I have a suspiciously large mole. Could I have cancer? How can I determine this at home?\"\n",
    "q3 = \"What does abutment of the nerve root mean?\""
   ]
  },
  {
   "cell_type": "code",
   "execution_count": null,
   "metadata": {
    "execution": {
     "iopub.execute_input": "2024-07-31T20:21:28.269548Z",
     "iopub.status.busy": "2024-07-31T20:21:28.268891Z",
     "iopub.status.idle": "2024-07-31T20:22:01.045953Z",
     "shell.execute_reply": "2024-07-31T20:22:01.045026Z",
     "shell.execute_reply.started": "2024-07-31T20:21:28.269515Z"
    }
   },
   "outputs": [],
   "source": [
    "generate_answer(model, q1)"
   ]
  },
  {
   "cell_type": "code",
   "execution_count": null,
   "metadata": {},
   "outputs": [],
   "source": [
    "generate_answer(model, q2)"
   ]
  },
  {
   "cell_type": "code",
   "execution_count": null,
   "metadata": {},
   "outputs": [],
   "source": [
    "generate_answer(model, q3)"
   ]
  },
  {
   "cell_type": "code",
   "execution_count": null,
   "metadata": {},
   "outputs": [],
   "source": [
    "# Free gpu memory\n",
    "import numba\n",
    "numba.cuda.close()"
   ]
  },
  {
   "cell_type": "code",
   "execution_count": null,
   "metadata": {},
   "outputs": [],
   "source": []
  },
  {
   "cell_type": "code",
   "execution_count": null,
   "metadata": {
    "execution": {
     "iopub.execute_input": "2024-07-31T20:29:40.007186Z",
     "iopub.status.busy": "2024-07-31T20:29:40.006418Z",
     "iopub.status.idle": "2024-07-31T20:30:00.561813Z",
     "shell.execute_reply": "2024-07-31T20:30:00.560849Z",
     "shell.execute_reply.started": "2024-07-31T20:29:40.00715Z"
    }
   },
   "outputs": [],
   "source": [
    "print(generate_answer(casual_model, q1))"
   ]
  },
  {
   "cell_type": "code",
   "execution_count": null,
   "metadata": {
    "execution": {
     "iopub.status.busy": "2024-07-31T19:39:48.456683Z",
     "iopub.status.idle": "2024-07-31T19:39:48.457382Z",
     "shell.execute_reply": "2024-07-31T19:39:48.457144Z",
     "shell.execute_reply.started": "2024-07-31T19:39:48.457123Z"
    }
   },
   "outputs": [],
   "source": []
  },
  {
   "cell_type": "code",
   "execution_count": null,
   "metadata": {},
   "outputs": [],
   "source": [
    "generate_answer(casual_model, q2)"
   ]
  },
  {
   "cell_type": "code",
   "execution_count": null,
   "metadata": {},
   "outputs": [],
   "source": []
  },
  {
   "cell_type": "code",
   "execution_count": null,
   "metadata": {
    "execution": {
     "iopub.status.busy": "2024-07-31T19:39:48.458644Z",
     "iopub.status.idle": "2024-07-31T19:39:48.459092Z",
     "shell.execute_reply": "2024-07-31T19:39:48.458882Z",
     "shell.execute_reply.started": "2024-07-31T19:39:48.458863Z"
    }
   },
   "outputs": [],
   "source": []
  },
  {
   "cell_type": "code",
   "execution_count": null,
   "metadata": {},
   "outputs": [],
   "source": [
    "generate_answer(casual_model, q3)"
   ]
  },
  {
   "cell_type": "code",
   "execution_count": null,
   "metadata": {},
   "outputs": [],
   "source": []
  }
 ],
 "metadata": {
  "kaggle": {
   "accelerator": "none",
   "dataSources": [],
   "dockerImageVersionId": 30747,
   "isGpuEnabled": false,
   "isInternetEnabled": true,
   "language": "python",
   "sourceType": "notebook"
  },
  "kernelspec": {
   "display_name": "Python 3",
   "language": "python",
   "name": "python3"
  },
  "language_info": {
   "codemirror_mode": {
    "name": "ipython",
    "version": 3
   },
   "file_extension": ".py",
   "mimetype": "text/x-python",
   "name": "python",
   "nbconvert_exporter": "python",
   "pygments_lexer": "ipython3",
   "version": "3.11.5"
  }
 },
 "nbformat": 4,
 "nbformat_minor": 4
}
