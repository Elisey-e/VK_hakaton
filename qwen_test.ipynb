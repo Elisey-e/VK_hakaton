{
 "cells": [
  {
   "cell_type": "code",
   "execution_count": 1,
   "metadata": {},
   "outputs": [
    {
     "name": "stderr",
     "output_type": "stream",
     "text": [
      "C:\\Users\\USER_ELISEY\\AppData\\Roaming\\Python\\Python311\\site-packages\\tqdm\\auto.py:21: TqdmWarning: IProgress not found. Please update jupyter and ipywidgets. See https://ipywidgets.readthedocs.io/en/stable/user_install.html\n",
      "  from .autonotebook import tqdm as notebook_tqdm\n"
     ]
    }
   ],
   "source": [
    "import torch\n",
    "\n",
    "from transformers import (\n",
    "    AutoModelForCausalLM,\n",
    "    AutoTokenizer,\n",
    "    BitsAndBytesConfig,\n",
    ")\n",
    "\n",
    "from trl import setup_chat_format"
   ]
  },
  {
   "cell_type": "code",
   "execution_count": 2,
   "metadata": {},
   "outputs": [],
   "source": [
    "path_to_source_model = \"C:\\\\Users\\\\USER_ELISEY\\\\qwen\"\n",
    "path_to_finetuned_model = \"C:\\\\Users\\\\USER_ELISEY\\\\hakaton\\\\russia_mini_chad\\\\checkpoint-500\""
   ]
  },
  {
   "cell_type": "markdown",
   "metadata": {},
   "source": [
    "# Compare models"
   ]
  },
  {
   "cell_type": "code",
   "execution_count": 3,
   "metadata": {},
   "outputs": [
    {
     "name": "stderr",
     "output_type": "stream",
     "text": [
      "`low_cpu_mem_usage` was None, now set to True since model is quantized.\n"
     ]
    }
   ],
   "source": [
    "# QLoRA config\n",
    "bnb_config = BitsAndBytesConfig(\n",
    "    load_in_4bit=True,\n",
    "    bnb_4bit_quant_type=\"nf4\",\n",
    "    bnb_4bit_compute_dtype=torch.float16,\n",
    "    bnb_4bit_use_double_quant=True,\n",
    ")\n",
    "\n",
    "# Load model\n",
    "casual_model = AutoModelForCausalLM.from_pretrained(\n",
    "    path_to_source_model,\n",
    "    quantization_config=bnb_config,\n",
    "#     device_map=\"auto\",\n",
    "    attn_implementation=\"eager\"\n",
    ")\n",
    "\n",
    "tokenizer = tokenizer = AutoTokenizer.from_pretrained(path_to_source_model)\n",
    "tokenizer.padding_side = 'right'\n",
    "tokenizer.padding_token = '<|pad_token|>'"
   ]
  },
  {
   "cell_type": "code",
   "execution_count": 4,
   "metadata": {},
   "outputs": [],
   "source": [
    "casual_model, tokenizer = setup_chat_format(casual_model, tokenizer)"
   ]
  },
  {
   "cell_type": "code",
   "execution_count": 5,
   "metadata": {},
   "outputs": [
    {
     "name": "stderr",
     "output_type": "stream",
     "text": [
      "`low_cpu_mem_usage` was None, now set to True since model is quantized.\n"
     ]
    }
   ],
   "source": [
    "model = AutoModelForCausalLM.from_pretrained(\n",
    "    path_to_finetuned_model,\n",
    "    quantization_config=bnb_config,\n",
    "#     device_map=\"auto\",\n",
    "    attn_implementation=\"eager\"\n",
    ")\n",
    "\n",
    "tokenizer = tokenizer = AutoTokenizer.from_pretrained(path_to_finetuned_model)\n",
    "tokenizer.padding_side = 'right'\n",
    "tokenizer.padding_token = '<|pad_token|>'"
   ]
  },
  {
   "cell_type": "code",
   "execution_count": 6,
   "metadata": {},
   "outputs": [],
   "source": [
    "model, tokenizer = setup_chat_format(model, tokenizer)"
   ]
  },
  {
   "cell_type": "markdown",
   "metadata": {},
   "source": [
    "## Get answers"
   ]
  },
  {
   "cell_type": "code",
   "execution_count": 7,
   "metadata": {},
   "outputs": [],
   "source": [
    "def generate_answer(model, prompt):\n",
    "    chat = [\n",
    "        { \"role\": \"user\", \"content\": prompt },\n",
    "    ]\n",
    "    prompt = tokenizer.apply_chat_template(chat, tokenize=False, add_generation_prompt=True)\n",
    "    inputs = tokenizer.encode(prompt, add_special_tokens=False, return_tensors=\"pt\")\n",
    "    outputs = model.generate(input_ids=inputs.to(model.device), max_new_tokens=150)\n",
    "\n",
    "    return(tokenizer.decode(outputs[0]))"
   ]
  },
  {
   "cell_type": "markdown",
   "metadata": {},
   "source": [
    "# Comprasion"
   ]
  },
  {
   "cell_type": "code",
   "execution_count": 18,
   "metadata": {},
   "outputs": [],
   "source": [
    "q1 = \"Who is Alexandr Nevskiy??\"\n",
    "q2 = \"Как звали сына Сталина?\"\n",
    "q3 = \"Кто такой Брежнев?\""
   ]
  },
  {
   "cell_type": "code",
   "execution_count": 19,
   "metadata": {},
   "outputs": [
    {
     "name": "stdout",
     "output_type": "stream",
     "text": [
      "<|im_start|>user\n",
      "Who is Alexandr Nevskiy??<|im_end|>\n",
      "<|im_start|>assistant\n",
      "Александра Невская (, , ; 19 сентября 1901, Москва — 19 октября 1981, Москва) — русский писатель, публицист, журналист, общественный деятель, общественный деятель, общественный деятель, общественный деятель, общественный деятель, общественный деятель, общественный деятель, общественный деятель, общественный деятель, общественный деятель, общественный деятель, общественный деятель, общественный деятель, общественный деятель, общественный деятель, общественный деятель, общественный деятель, общественный деятель, общественный деятель, общественный деятель, общественный деятель, общественный деятель, общественный деятель, общественный деятель\n"
     ]
    }
   ],
   "source": [
    "print(generate_answer(model, q1))"
   ]
  },
  {
   "cell_type": "code",
   "execution_count": 10,
   "metadata": {},
   "outputs": [
    {
     "name": "stdout",
     "output_type": "stream",
     "text": [
      "<|im_start|>user\n",
      "Как звали сына Сталина?<|im_end|>\n",
      "<|im_start|>assistant\n",
      "Сын Сталина — имя, которое было названо в 1936 году, когда Сталин был избран на должность президента СССР. В 1936 году Сталин был избран на должность президента СССР, но в 1938 году был избран на должность президента Советского Союза. В 1938 году Сталин был избран на должность президента Советского Союза, но в 1940 году был избран на должность президента СССР. В 1940 году Сталин был избран\n"
     ]
    }
   ],
   "source": [
    "print(generate_answer(model, q2))"
   ]
  },
  {
   "cell_type": "code",
   "execution_count": 11,
   "metadata": {},
   "outputs": [
    {
     "name": "stdout",
     "output_type": "stream",
     "text": [
      "<|im_start|>user\n",
      "Кто такой Брежнев?<|im_end|>\n",
      "<|im_start|>assistant\n",
      "Брежнев (, , ; 19 мая 1890, Москва — 17 мая 1972, Москва) — российский политический деятель, государственный деятель, государственный деятель, государственный деятель, государственный деятель, государственный деятель, государственный деятель, государственный деятель, государственный деятель, государственный деятель, государственный деятель, государственный деятель, государственный деятель, государственный деятель, государственный деятель, государственный деятель, государственный деятель, государственный деятель, государственный деятель, государственный деятель, государственный деятель, государственный деятель, государственный деятель, государственный деятель, государственный деятель, государственный деятель, государственный деятель, государственный\n"
     ]
    }
   ],
   "source": [
    "print(generate_answer(model, q3))"
   ]
  },
  {
   "cell_type": "code",
   "execution_count": 12,
   "metadata": {},
   "outputs": [],
   "source": [
    "# # Free gpu memory\n",
    "# import numba\n",
    "# numba.cuda.close()"
   ]
  },
  {
   "cell_type": "code",
   "execution_count": 20,
   "metadata": {},
   "outputs": [
    {
     "name": "stdout",
     "output_type": "stream",
     "text": [
      "<|im_start|>user\n",
      "Who is Alexandr Nevskiy??<|im_end|>\n",
      "<|im_start|>assistant\n",
      "Based on the information provided in the text, here are some possible answers to the question \"Who is Alexandr Nevskiy?\":\n",
      "\n",
      "1. Alexandr Nevskiy is a Russian mathematician and professor at the University of Michigan.\n",
      "2. He is known for his contributions to the theory of algebraic curves and the theory of algebraic varieties.\n",
      "3. He has published numerous papers and books on these topics, including \"Algebraic Curves\" (1981) and \"Algebraic Varieties\" (1988).\n",
      "4. He has also been a professor at the University of Michigan since 1988.\n",
      "5. He has received several awards and honors, including the Fields Medal in 200\n"
     ]
    }
   ],
   "source": [
    "print(generate_answer(casual_model, q1))"
   ]
  },
  {
   "cell_type": "code",
   "execution_count": 14,
   "metadata": {},
   "outputs": [
    {
     "name": "stdout",
     "output_type": "stream",
     "text": [
      "<|im_start|>user\n",
      "Как звали сына Сталина?<|im_end|>\n",
      "<|im_start|>assistant\n",
      "Based on the information provided in the text, the name of the son of Stalin is not mentioned. The text only mentions that Stalin was the leader of the Soviet Union and that he was born in 1903. There is no mention of his name or any other information about his son.<|im_end|>\n"
     ]
    }
   ],
   "source": [
    "print(generate_answer(casual_model, q2))"
   ]
  },
  {
   "cell_type": "code",
   "execution_count": 15,
   "metadata": {},
   "outputs": [
    {
     "name": "stdout",
     "output_type": "stream",
     "text": [
      "<|im_start|>user\n",
      "Кто такой Брежнев?<|im_end|>\n",
      "<|im_start|>assistant\n",
      "The person who is the subject of the question is the former Soviet leader and Prime Minister of the Russian Federation, Boris Yeltsin.<|im_end|>\n"
     ]
    }
   ],
   "source": [
    "print(generate_answer(casual_model, q3))"
   ]
  },
  {
   "cell_type": "code",
   "execution_count": null,
   "metadata": {},
   "outputs": [],
   "source": []
  },
  {
   "cell_type": "code",
   "execution_count": null,
   "metadata": {},
   "outputs": [],
   "source": []
  },
  {
   "cell_type": "code",
   "execution_count": null,
   "metadata": {},
   "outputs": [],
   "source": []
  }
 ],
 "metadata": {
  "kernelspec": {
   "display_name": "Python 3",
   "language": "python",
   "name": "python3"
  },
  "language_info": {
   "codemirror_mode": {
    "name": "ipython",
    "version": 3
   },
   "file_extension": ".py",
   "mimetype": "text/x-python",
   "name": "python",
   "nbconvert_exporter": "python",
   "pygments_lexer": "ipython3",
   "version": "3.11.5"
  }
 },
 "nbformat": 4,
 "nbformat_minor": 2
}
